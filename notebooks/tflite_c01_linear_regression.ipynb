{
  "cells": [
    {
      "cell_type": "markdown",
      "metadata": {
        "id": "Za8-Nr5k11fh"
      },
      "source": [
        "##### Copyright 2018 The TensorFlow Authors."
      ]
    },
    {
      "cell_type": "code",
      "execution_count": null,
      "metadata": {
        "cellView": "form",
        "id": "Eq10uEbw0E4l"
      },
      "outputs": [],
      "source": [
        "#@title Licensed under the Apache License, Version 2.0 (the \"License\");\n",
        "# you may not use this file except in compliance with the License.\n",
        "# You may obtain a copy of the License at\n",
        "#\n",
        "# https://www.apache.org/licenses/LICENSE-2.0\n",
        "#\n",
        "# Unless required by applicable law or agreed to in writing, software\n",
        "# distributed under the License is distributed on an \"AS IS\" BASIS,\n",
        "# WITHOUT WARRANTIES OR CONDITIONS OF ANY KIND, either express or implied.\n",
        "# See the License for the specific language governing permissions and\n",
        "# limitations under the License."
      ]
    },
    {
      "cell_type": "markdown",
      "metadata": {
        "id": "UysiGN3tGQHY"
      },
      "source": [
        "# Running TFLite models"
      ]
    },
    {
      "cell_type": "markdown",
      "metadata": {
        "id": "2hOrvdmswy5O"
      },
      "source": [
        "<table class=\"tfo-notebook-buttons\" align=\"left\">\n",
        "  <td>\n",
        "    <a target=\"_blank\" href=\"https://colab.research.google.com/github/tensorflow/examples/blob/master/courses/udacity_intro_to_tensorflow_lite/tflite_c01_linear_regression.ipynb\">\n",
        "    <img src=\"https://www.tensorflow.org/images/colab_logo_32px.png\" />\n",
        "    Run in Google Colab</a>\n",
        "  </td>\n",
        "  <td>\n",
        "    <a target=\"_blank\" href=\"https://github.com/tensorflow/examples/blob/master/courses/udacity_intro_to_tensorflow_lite/tflite_c01_linear_regression.ipynb\">\n",
        "    <img src=\"https://www.tensorflow.org/images/GitHub-Mark-32px.png\" />\n",
        "    View source on GitHub</a>\n",
        "  </td>\n",
        "</table>"
      ]
    },
    {
      "cell_type": "markdown",
      "metadata": {
        "id": "W-VhTkyTGcaQ"
      },
      "source": [
        "## Setup"
      ]
    },
    {
      "cell_type": "code",
      "execution_count": 1,
      "metadata": {
        "id": "dy4BcTjBFTWx"
      },
      "outputs": [],
      "source": [
        "import tensorflow as tf\n",
        "\n",
        "import pathlib\n",
        "import numpy as np\n",
        "import matplotlib.pyplot as plt\n",
        "\n",
        "from tensorflow.keras.models import Model\n",
        "from tensorflow.keras.layers import Input"
      ]
    },
    {
      "cell_type": "markdown",
      "metadata": {
        "id": "ceibQLDeGhI4"
      },
      "source": [
        "## Create a basic model of the form y = mx + c"
      ]
    },
    {
      "cell_type": "code",
      "execution_count": 2,
      "metadata": {
        "id": "YIBCsjQNF46Z",
        "outputId": "2ce09a62-9e3c-42ba-fdcc-dc11ce0ff914",
        "colab": {
          "base_uri": "https://localhost:8080/"
        }
      },
      "outputs": [
        {
          "output_type": "stream",
          "name": "stdout",
          "text": [
            "Epoch 1/200\n",
            "1/1 [==============================] - 4s 4s/step - loss: 48.3374\n",
            "Epoch 2/200\n",
            "1/1 [==============================] - 0s 9ms/step - loss: 38.4172\n",
            "Epoch 3/200\n",
            "1/1 [==============================] - 0s 8ms/step - loss: 30.6046\n",
            "Epoch 4/200\n",
            "1/1 [==============================] - 0s 10ms/step - loss: 24.4502\n",
            "Epoch 5/200\n",
            "1/1 [==============================] - 0s 8ms/step - loss: 19.6005\n",
            "Epoch 6/200\n",
            "1/1 [==============================] - 0s 10ms/step - loss: 15.7776\n",
            "Epoch 7/200\n",
            "1/1 [==============================] - 0s 9ms/step - loss: 12.7625\n",
            "Epoch 8/200\n",
            "1/1 [==============================] - 0s 8ms/step - loss: 10.3833\n",
            "Epoch 9/200\n",
            "1/1 [==============================] - 0s 9ms/step - loss: 8.5043\n",
            "Epoch 10/200\n",
            "1/1 [==============================] - 0s 10ms/step - loss: 7.0192\n",
            "Epoch 11/200\n",
            "1/1 [==============================] - 0s 10ms/step - loss: 5.8440\n",
            "Epoch 12/200\n",
            "1/1 [==============================] - 0s 9ms/step - loss: 4.9129\n",
            "Epoch 13/200\n",
            "1/1 [==============================] - 0s 10ms/step - loss: 4.1738\n",
            "Epoch 14/200\n",
            "1/1 [==============================] - 0s 10ms/step - loss: 3.5860\n",
            "Epoch 15/200\n",
            "1/1 [==============================] - 0s 10ms/step - loss: 3.1173\n",
            "Epoch 16/200\n",
            "1/1 [==============================] - 0s 9ms/step - loss: 2.7425\n",
            "Epoch 17/200\n",
            "1/1 [==============================] - 0s 9ms/step - loss: 2.4417\n",
            "Epoch 18/200\n",
            "1/1 [==============================] - 0s 8ms/step - loss: 2.1991\n",
            "Epoch 19/200\n",
            "1/1 [==============================] - 0s 11ms/step - loss: 2.0026\n",
            "Epoch 20/200\n",
            "1/1 [==============================] - 0s 10ms/step - loss: 1.8424\n",
            "Epoch 21/200\n",
            "1/1 [==============================] - 0s 10ms/step - loss: 1.7109\n",
            "Epoch 22/200\n",
            "1/1 [==============================] - 0s 9ms/step - loss: 1.6021\n",
            "Epoch 23/200\n",
            "1/1 [==============================] - 0s 8ms/step - loss: 1.5112\n",
            "Epoch 24/200\n",
            "1/1 [==============================] - 0s 9ms/step - loss: 1.4345\n",
            "Epoch 25/200\n",
            "1/1 [==============================] - 0s 10ms/step - loss: 1.3692\n",
            "Epoch 26/200\n",
            "1/1 [==============================] - 0s 10ms/step - loss: 1.3128\n",
            "Epoch 27/200\n",
            "1/1 [==============================] - 0s 10ms/step - loss: 1.2636\n",
            "Epoch 28/200\n",
            "1/1 [==============================] - 0s 10ms/step - loss: 1.2202\n",
            "Epoch 29/200\n",
            "1/1 [==============================] - 0s 10ms/step - loss: 1.1814\n",
            "Epoch 30/200\n",
            "1/1 [==============================] - 0s 9ms/step - loss: 1.1463\n",
            "Epoch 31/200\n",
            "1/1 [==============================] - 0s 8ms/step - loss: 1.1142\n",
            "Epoch 32/200\n",
            "1/1 [==============================] - 0s 8ms/step - loss: 1.0846\n",
            "Epoch 33/200\n",
            "1/1 [==============================] - 0s 11ms/step - loss: 1.0571\n",
            "Epoch 34/200\n",
            "1/1 [==============================] - 0s 9ms/step - loss: 1.0312\n",
            "Epoch 35/200\n",
            "1/1 [==============================] - 0s 10ms/step - loss: 1.0068\n",
            "Epoch 36/200\n",
            "1/1 [==============================] - 0s 9ms/step - loss: 0.9835\n",
            "Epoch 37/200\n",
            "1/1 [==============================] - 0s 10ms/step - loss: 0.9613\n",
            "Epoch 38/200\n",
            "1/1 [==============================] - 0s 10ms/step - loss: 0.9400\n",
            "Epoch 39/200\n",
            "1/1 [==============================] - 0s 10ms/step - loss: 0.9194\n",
            "Epoch 40/200\n",
            "1/1 [==============================] - 0s 9ms/step - loss: 0.8996\n",
            "Epoch 41/200\n",
            "1/1 [==============================] - 0s 9ms/step - loss: 0.8803\n",
            "Epoch 42/200\n",
            "1/1 [==============================] - 0s 8ms/step - loss: 0.8616\n",
            "Epoch 43/200\n",
            "1/1 [==============================] - 0s 11ms/step - loss: 0.8434\n",
            "Epoch 44/200\n",
            "1/1 [==============================] - 0s 8ms/step - loss: 0.8257\n",
            "Epoch 45/200\n",
            "1/1 [==============================] - 0s 10ms/step - loss: 0.8085\n",
            "Epoch 46/200\n",
            "1/1 [==============================] - 0s 10ms/step - loss: 0.7916\n",
            "Epoch 47/200\n",
            "1/1 [==============================] - 0s 12ms/step - loss: 0.7752\n",
            "Epoch 48/200\n",
            "1/1 [==============================] - 0s 11ms/step - loss: 0.7591\n",
            "Epoch 49/200\n",
            "1/1 [==============================] - 0s 10ms/step - loss: 0.7434\n",
            "Epoch 50/200\n",
            "1/1 [==============================] - 0s 8ms/step - loss: 0.7281\n",
            "Epoch 51/200\n",
            "1/1 [==============================] - 0s 8ms/step - loss: 0.7130\n",
            "Epoch 52/200\n",
            "1/1 [==============================] - 0s 10ms/step - loss: 0.6983\n",
            "Epoch 53/200\n",
            "1/1 [==============================] - 0s 9ms/step - loss: 0.6840\n",
            "Epoch 54/200\n",
            "1/1 [==============================] - 0s 10ms/step - loss: 0.6699\n",
            "Epoch 55/200\n",
            "1/1 [==============================] - 0s 10ms/step - loss: 0.6561\n",
            "Epoch 56/200\n",
            "1/1 [==============================] - 0s 8ms/step - loss: 0.6426\n",
            "Epoch 57/200\n",
            "1/1 [==============================] - 0s 8ms/step - loss: 0.6294\n",
            "Epoch 58/200\n",
            "1/1 [==============================] - 0s 8ms/step - loss: 0.6164\n",
            "Epoch 59/200\n",
            "1/1 [==============================] - 0s 11ms/step - loss: 0.6038\n",
            "Epoch 60/200\n",
            "1/1 [==============================] - 0s 10ms/step - loss: 0.5913\n",
            "Epoch 61/200\n",
            "1/1 [==============================] - 0s 14ms/step - loss: 0.5792\n",
            "Epoch 62/200\n",
            "1/1 [==============================] - 0s 8ms/step - loss: 0.5673\n",
            "Epoch 63/200\n",
            "1/1 [==============================] - 0s 10ms/step - loss: 0.5556\n",
            "Epoch 64/200\n",
            "1/1 [==============================] - 0s 11ms/step - loss: 0.5442\n",
            "Epoch 65/200\n",
            "1/1 [==============================] - 0s 11ms/step - loss: 0.5330\n",
            "Epoch 66/200\n",
            "1/1 [==============================] - 0s 8ms/step - loss: 0.5221\n",
            "Epoch 67/200\n",
            "1/1 [==============================] - 0s 8ms/step - loss: 0.5114\n",
            "Epoch 68/200\n",
            "1/1 [==============================] - 0s 11ms/step - loss: 0.5009\n",
            "Epoch 69/200\n",
            "1/1 [==============================] - 0s 9ms/step - loss: 0.4906\n",
            "Epoch 70/200\n",
            "1/1 [==============================] - 0s 10ms/step - loss: 0.4805\n",
            "Epoch 71/200\n",
            "1/1 [==============================] - 0s 10ms/step - loss: 0.4706\n",
            "Epoch 72/200\n",
            "1/1 [==============================] - 0s 10ms/step - loss: 0.4610\n",
            "Epoch 73/200\n",
            "1/1 [==============================] - 0s 10ms/step - loss: 0.4515\n",
            "Epoch 74/200\n",
            "1/1 [==============================] - 0s 10ms/step - loss: 0.4422\n",
            "Epoch 75/200\n",
            "1/1 [==============================] - 0s 12ms/step - loss: 0.4331\n",
            "Epoch 76/200\n",
            "1/1 [==============================] - 0s 14ms/step - loss: 0.4242\n",
            "Epoch 77/200\n",
            "1/1 [==============================] - 0s 10ms/step - loss: 0.4155\n",
            "Epoch 78/200\n",
            "1/1 [==============================] - 0s 8ms/step - loss: 0.4070\n",
            "Epoch 79/200\n",
            "1/1 [==============================] - 0s 10ms/step - loss: 0.3986\n",
            "Epoch 80/200\n",
            "1/1 [==============================] - 0s 9ms/step - loss: 0.3904\n",
            "Epoch 81/200\n",
            "1/1 [==============================] - 0s 11ms/step - loss: 0.3824\n",
            "Epoch 82/200\n",
            "1/1 [==============================] - 0s 10ms/step - loss: 0.3746\n",
            "Epoch 83/200\n",
            "1/1 [==============================] - 0s 10ms/step - loss: 0.3669\n",
            "Epoch 84/200\n",
            "1/1 [==============================] - 0s 10ms/step - loss: 0.3593\n",
            "Epoch 85/200\n",
            "1/1 [==============================] - 0s 10ms/step - loss: 0.3519\n",
            "Epoch 86/200\n",
            "1/1 [==============================] - 0s 10ms/step - loss: 0.3447\n",
            "Epoch 87/200\n",
            "1/1 [==============================] - 0s 11ms/step - loss: 0.3376\n",
            "Epoch 88/200\n",
            "1/1 [==============================] - 0s 10ms/step - loss: 0.3307\n",
            "Epoch 89/200\n",
            "1/1 [==============================] - 0s 9ms/step - loss: 0.3239\n",
            "Epoch 90/200\n",
            "1/1 [==============================] - 0s 10ms/step - loss: 0.3173\n",
            "Epoch 91/200\n",
            "1/1 [==============================] - 0s 10ms/step - loss: 0.3107\n",
            "Epoch 92/200\n",
            "1/1 [==============================] - 0s 11ms/step - loss: 0.3044\n",
            "Epoch 93/200\n",
            "1/1 [==============================] - 0s 8ms/step - loss: 0.2981\n",
            "Epoch 94/200\n",
            "1/1 [==============================] - 0s 9ms/step - loss: 0.2920\n",
            "Epoch 95/200\n",
            "1/1 [==============================] - 0s 11ms/step - loss: 0.2860\n",
            "Epoch 96/200\n",
            "1/1 [==============================] - 0s 10ms/step - loss: 0.2801\n",
            "Epoch 97/200\n",
            "1/1 [==============================] - 0s 10ms/step - loss: 0.2744\n",
            "Epoch 98/200\n",
            "1/1 [==============================] - 0s 10ms/step - loss: 0.2687\n",
            "Epoch 99/200\n",
            "1/1 [==============================] - 0s 10ms/step - loss: 0.2632\n",
            "Epoch 100/200\n",
            "1/1 [==============================] - 0s 10ms/step - loss: 0.2578\n",
            "Epoch 101/200\n",
            "1/1 [==============================] - 0s 10ms/step - loss: 0.2525\n",
            "Epoch 102/200\n",
            "1/1 [==============================] - 0s 8ms/step - loss: 0.2473\n",
            "Epoch 103/200\n",
            "1/1 [==============================] - 0s 8ms/step - loss: 0.2422\n",
            "Epoch 104/200\n",
            "1/1 [==============================] - 0s 9ms/step - loss: 0.2373\n",
            "Epoch 105/200\n",
            "1/1 [==============================] - 0s 8ms/step - loss: 0.2324\n",
            "Epoch 106/200\n",
            "1/1 [==============================] - 0s 9ms/step - loss: 0.2276\n",
            "Epoch 107/200\n",
            "1/1 [==============================] - 0s 11ms/step - loss: 0.2229\n",
            "Epoch 108/200\n",
            "1/1 [==============================] - 0s 9ms/step - loss: 0.2184\n",
            "Epoch 109/200\n",
            "1/1 [==============================] - 0s 10ms/step - loss: 0.2139\n",
            "Epoch 110/200\n",
            "1/1 [==============================] - 0s 9ms/step - loss: 0.2095\n",
            "Epoch 111/200\n",
            "1/1 [==============================] - 0s 11ms/step - loss: 0.2052\n",
            "Epoch 112/200\n",
            "1/1 [==============================] - 0s 10ms/step - loss: 0.2010\n",
            "Epoch 113/200\n",
            "1/1 [==============================] - 0s 8ms/step - loss: 0.1968\n",
            "Epoch 114/200\n",
            "1/1 [==============================] - 0s 9ms/step - loss: 0.1928\n",
            "Epoch 115/200\n",
            "1/1 [==============================] - 0s 10ms/step - loss: 0.1888\n",
            "Epoch 116/200\n",
            "1/1 [==============================] - 0s 10ms/step - loss: 0.1850\n",
            "Epoch 117/200\n",
            "1/1 [==============================] - 0s 8ms/step - loss: 0.1812\n",
            "Epoch 118/200\n",
            "1/1 [==============================] - 0s 10ms/step - loss: 0.1774\n",
            "Epoch 119/200\n",
            "1/1 [==============================] - 0s 10ms/step - loss: 0.1738\n",
            "Epoch 120/200\n",
            "1/1 [==============================] - 0s 10ms/step - loss: 0.1702\n",
            "Epoch 121/200\n",
            "1/1 [==============================] - 0s 10ms/step - loss: 0.1667\n",
            "Epoch 122/200\n",
            "1/1 [==============================] - 0s 10ms/step - loss: 0.1633\n",
            "Epoch 123/200\n",
            "1/1 [==============================] - 0s 10ms/step - loss: 0.1599\n",
            "Epoch 124/200\n",
            "1/1 [==============================] - 0s 10ms/step - loss: 0.1567\n",
            "Epoch 125/200\n",
            "1/1 [==============================] - 0s 20ms/step - loss: 0.1534\n",
            "Epoch 126/200\n",
            "1/1 [==============================] - 0s 11ms/step - loss: 0.1503\n",
            "Epoch 127/200\n",
            "1/1 [==============================] - 0s 8ms/step - loss: 0.1472\n",
            "Epoch 128/200\n",
            "1/1 [==============================] - 0s 10ms/step - loss: 0.1442\n",
            "Epoch 129/200\n",
            "1/1 [==============================] - 0s 10ms/step - loss: 0.1412\n",
            "Epoch 130/200\n",
            "1/1 [==============================] - 0s 10ms/step - loss: 0.1383\n",
            "Epoch 131/200\n",
            "1/1 [==============================] - 0s 9ms/step - loss: 0.1355\n",
            "Epoch 132/200\n",
            "1/1 [==============================] - 0s 12ms/step - loss: 0.1327\n",
            "Epoch 133/200\n",
            "1/1 [==============================] - 0s 10ms/step - loss: 0.1300\n",
            "Epoch 134/200\n",
            "1/1 [==============================] - 0s 10ms/step - loss: 0.1273\n",
            "Epoch 135/200\n",
            "1/1 [==============================] - 0s 10ms/step - loss: 0.1247\n",
            "Epoch 136/200\n",
            "1/1 [==============================] - 0s 11ms/step - loss: 0.1221\n",
            "Epoch 137/200\n",
            "1/1 [==============================] - 0s 10ms/step - loss: 0.1196\n",
            "Epoch 138/200\n",
            "1/1 [==============================] - 0s 12ms/step - loss: 0.1172\n",
            "Epoch 139/200\n",
            "1/1 [==============================] - 0s 11ms/step - loss: 0.1147\n",
            "Epoch 140/200\n",
            "1/1 [==============================] - 0s 10ms/step - loss: 0.1124\n",
            "Epoch 141/200\n",
            "1/1 [==============================] - 0s 15ms/step - loss: 0.1101\n",
            "Epoch 142/200\n",
            "1/1 [==============================] - 0s 10ms/step - loss: 0.1078\n",
            "Epoch 143/200\n",
            "1/1 [==============================] - 0s 10ms/step - loss: 0.1056\n",
            "Epoch 144/200\n",
            "1/1 [==============================] - 0s 11ms/step - loss: 0.1034\n",
            "Epoch 145/200\n",
            "1/1 [==============================] - 0s 11ms/step - loss: 0.1013\n",
            "Epoch 146/200\n",
            "1/1 [==============================] - 0s 8ms/step - loss: 0.0992\n",
            "Epoch 147/200\n",
            "1/1 [==============================] - 0s 12ms/step - loss: 0.0972\n",
            "Epoch 148/200\n",
            "1/1 [==============================] - 0s 8ms/step - loss: 0.0952\n",
            "Epoch 149/200\n",
            "1/1 [==============================] - 0s 10ms/step - loss: 0.0932\n",
            "Epoch 150/200\n",
            "1/1 [==============================] - 0s 15ms/step - loss: 0.0913\n",
            "Epoch 151/200\n",
            "1/1 [==============================] - 0s 10ms/step - loss: 0.0895\n",
            "Epoch 152/200\n",
            "1/1 [==============================] - 0s 10ms/step - loss: 0.0876\n",
            "Epoch 153/200\n",
            "1/1 [==============================] - 0s 11ms/step - loss: 0.0858\n",
            "Epoch 154/200\n",
            "1/1 [==============================] - 0s 10ms/step - loss: 0.0841\n",
            "Epoch 155/200\n",
            "1/1 [==============================] - 0s 10ms/step - loss: 0.0823\n",
            "Epoch 156/200\n",
            "1/1 [==============================] - 0s 10ms/step - loss: 0.0806\n",
            "Epoch 157/200\n",
            "1/1 [==============================] - 0s 12ms/step - loss: 0.0790\n",
            "Epoch 158/200\n",
            "1/1 [==============================] - 0s 10ms/step - loss: 0.0774\n",
            "Epoch 159/200\n",
            "1/1 [==============================] - 0s 12ms/step - loss: 0.0758\n",
            "Epoch 160/200\n",
            "1/1 [==============================] - 0s 10ms/step - loss: 0.0742\n",
            "Epoch 161/200\n",
            "1/1 [==============================] - 0s 10ms/step - loss: 0.0727\n",
            "Epoch 162/200\n",
            "1/1 [==============================] - 0s 10ms/step - loss: 0.0712\n",
            "Epoch 163/200\n",
            "1/1 [==============================] - 0s 11ms/step - loss: 0.0697\n",
            "Epoch 164/200\n",
            "1/1 [==============================] - 0s 10ms/step - loss: 0.0683\n",
            "Epoch 165/200\n",
            "1/1 [==============================] - 0s 10ms/step - loss: 0.0669\n",
            "Epoch 166/200\n",
            "1/1 [==============================] - 0s 10ms/step - loss: 0.0655\n",
            "Epoch 167/200\n",
            "1/1 [==============================] - 0s 10ms/step - loss: 0.0642\n",
            "Epoch 168/200\n",
            "1/1 [==============================] - 0s 16ms/step - loss: 0.0629\n",
            "Epoch 169/200\n",
            "1/1 [==============================] - 0s 19ms/step - loss: 0.0616\n",
            "Epoch 170/200\n",
            "1/1 [==============================] - 0s 12ms/step - loss: 0.0603\n",
            "Epoch 171/200\n",
            "1/1 [==============================] - 0s 15ms/step - loss: 0.0591\n",
            "Epoch 172/200\n",
            "1/1 [==============================] - 0s 11ms/step - loss: 0.0578\n",
            "Epoch 173/200\n",
            "1/1 [==============================] - 0s 9ms/step - loss: 0.0567\n",
            "Epoch 174/200\n",
            "1/1 [==============================] - 0s 12ms/step - loss: 0.0555\n",
            "Epoch 175/200\n",
            "1/1 [==============================] - 0s 11ms/step - loss: 0.0544\n",
            "Epoch 176/200\n",
            "1/1 [==============================] - 0s 14ms/step - loss: 0.0532\n",
            "Epoch 177/200\n",
            "1/1 [==============================] - 0s 9ms/step - loss: 0.0521\n",
            "Epoch 178/200\n",
            "1/1 [==============================] - 0s 12ms/step - loss: 0.0511\n",
            "Epoch 179/200\n",
            "1/1 [==============================] - 0s 8ms/step - loss: 0.0500\n",
            "Epoch 180/200\n",
            "1/1 [==============================] - 0s 9ms/step - loss: 0.0490\n",
            "Epoch 181/200\n",
            "1/1 [==============================] - 0s 9ms/step - loss: 0.0480\n",
            "Epoch 182/200\n",
            "1/1 [==============================] - 0s 9ms/step - loss: 0.0470\n",
            "Epoch 183/200\n",
            "1/1 [==============================] - 0s 9ms/step - loss: 0.0460\n",
            "Epoch 184/200\n",
            "1/1 [==============================] - 0s 11ms/step - loss: 0.0451\n",
            "Epoch 185/200\n",
            "1/1 [==============================] - 0s 17ms/step - loss: 0.0442\n",
            "Epoch 186/200\n",
            "1/1 [==============================] - 0s 12ms/step - loss: 0.0433\n",
            "Epoch 187/200\n",
            "1/1 [==============================] - 0s 15ms/step - loss: 0.0424\n",
            "Epoch 188/200\n",
            "1/1 [==============================] - 0s 11ms/step - loss: 0.0415\n",
            "Epoch 189/200\n",
            "1/1 [==============================] - 0s 14ms/step - loss: 0.0407\n",
            "Epoch 190/200\n",
            "1/1 [==============================] - 0s 13ms/step - loss: 0.0398\n",
            "Epoch 191/200\n",
            "1/1 [==============================] - 0s 13ms/step - loss: 0.0390\n",
            "Epoch 192/200\n",
            "1/1 [==============================] - 0s 10ms/step - loss: 0.0382\n",
            "Epoch 193/200\n",
            "1/1 [==============================] - 0s 14ms/step - loss: 0.0374\n",
            "Epoch 194/200\n",
            "1/1 [==============================] - 0s 10ms/step - loss: 0.0366\n",
            "Epoch 195/200\n",
            "1/1 [==============================] - 0s 9ms/step - loss: 0.0359\n",
            "Epoch 196/200\n",
            "1/1 [==============================] - 0s 18ms/step - loss: 0.0352\n",
            "Epoch 197/200\n",
            "1/1 [==============================] - 0s 13ms/step - loss: 0.0344\n",
            "Epoch 198/200\n",
            "1/1 [==============================] - 0s 11ms/step - loss: 0.0337\n",
            "Epoch 199/200\n",
            "1/1 [==============================] - 0s 16ms/step - loss: 0.0330\n",
            "Epoch 200/200\n",
            "1/1 [==============================] - 0s 15ms/step - loss: 0.0324\n"
          ]
        },
        {
          "output_type": "execute_result",
          "data": {
            "text/plain": [
              "<keras.callbacks.History at 0x7f39781c8130>"
            ]
          },
          "metadata": {},
          "execution_count": 2
        }
      ],
      "source": [
        "# Create a simple Keras model.\n",
        "x = [-1, 0, 1, 2, 3, 4]\n",
        "y = [-3, -1, 1, 3, 5, 7]\n",
        "\n",
        "model = tf.keras.models.Sequential([\n",
        "    tf.keras.layers.Dense(units=1, input_shape=[1])\n",
        "])\n",
        "model.compile(optimizer='sgd', loss='mean_squared_error')\n",
        "model.fit(x, y, epochs=200, verbose=1)"
      ]
    },
    {
      "cell_type": "markdown",
      "metadata": {
        "id": "EjsB-QICGt6L"
      },
      "source": [
        "## Generate a SavedModel"
      ]
    },
    {
      "cell_type": "code",
      "execution_count": 3,
      "metadata": {
        "id": "a9xcbK7QHOfm"
      },
      "outputs": [],
      "source": [
        "export_dir = 'saved_model/1'\n",
        "tf.saved_model.save(model, export_dir)"
      ]
    },
    {
      "cell_type": "markdown",
      "metadata": {
        "id": "RRtsNwkiGxcO"
      },
      "source": [
        "## Convert the SavedModel to TFLite"
      ]
    },
    {
      "cell_type": "code",
      "execution_count": 4,
      "metadata": {
        "id": "TtM8yKTVTpD3"
      },
      "outputs": [],
      "source": [
        "# Convert the model.\n",
        "converter = tf.lite.TFLiteConverter.from_saved_model(export_dir)\n",
        "tflite_model = converter.convert()"
      ]
    },
    {
      "cell_type": "code",
      "execution_count": 5,
      "metadata": {
        "id": "4idYulcNHTdO",
        "outputId": "7229840c-7e82-4c3a-bd4e-dce3281dc3cf",
        "colab": {
          "base_uri": "https://localhost:8080/"
        }
      },
      "outputs": [
        {
          "output_type": "execute_result",
          "data": {
            "text/plain": [
              "1080"
            ]
          },
          "metadata": {},
          "execution_count": 5
        }
      ],
      "source": [
        "tflite_model_file = pathlib.Path('model.tflite')\n",
        "tflite_model_file.write_bytes(tflite_model)"
      ]
    },
    {
      "cell_type": "markdown",
      "metadata": {
        "id": "HgGvp2yBG25Q"
      },
      "source": [
        "## Initialize the TFLite interpreter to try it out"
      ]
    },
    {
      "cell_type": "code",
      "execution_count": 6,
      "metadata": {
        "id": "DOt94wIWF8m7"
      },
      "outputs": [],
      "source": [
        "# Load TFLite model and allocate tensors.\n",
        "interpreter = tf.lite.Interpreter(model_content=tflite_model)\n",
        "interpreter.allocate_tensors()\n",
        "\n",
        "# Get input and output tensors.\n",
        "input_details = interpreter.get_input_details()\n",
        "output_details = interpreter.get_output_details()"
      ]
    },
    {
      "cell_type": "code",
      "source": [
        "input_details"
      ],
      "metadata": {
        "id": "F7ZW0tuRxKVx",
        "outputId": "7803c3f7-b001-42db-cfdb-3a66e678cf78",
        "colab": {
          "base_uri": "https://localhost:8080/"
        }
      },
      "execution_count": 10,
      "outputs": [
        {
          "output_type": "execute_result",
          "data": {
            "text/plain": [
              "[{'name': 'serving_default_dense_input:0',\n",
              "  'index': 0,\n",
              "  'shape': array([1, 1], dtype=int32),\n",
              "  'shape_signature': array([-1,  1], dtype=int32),\n",
              "  'dtype': numpy.float32,\n",
              "  'quantization': (0.0, 0),\n",
              "  'quantization_parameters': {'scales': array([], dtype=float32),\n",
              "   'zero_points': array([], dtype=int32),\n",
              "   'quantized_dimension': 0},\n",
              "  'sparsity_parameters': {}}]"
            ]
          },
          "metadata": {},
          "execution_count": 10
        }
      ]
    },
    {
      "cell_type": "code",
      "execution_count": 7,
      "metadata": {
        "id": "JGYkEK08F8qK"
      },
      "outputs": [],
      "source": [
        "# Test the TensorFlow Lite model on random input data.\n",
        "input_shape = input_details[0]['shape']\n",
        "inputs, outputs = [], []\n",
        "for _ in range(100):\n",
        "  input_data = np.array(np.random.random_sample(input_shape), dtype=np.float32)\n",
        "  interpreter.set_tensor(input_details[0]['index'], input_data)\n",
        "\n",
        "  interpreter.invoke()\n",
        "  tflite_results = interpreter.get_tensor(output_details[0]['index'])\n",
        "\n",
        "  # Test the TensorFlow model on random input data.\n",
        "  tf_results = model(tf.constant(input_data))\n",
        "  output_data = np.array(tf_results)\n",
        "  \n",
        "  inputs.append(input_data[0][0])\n",
        "  outputs.append(output_data[0][0])"
      ]
    },
    {
      "cell_type": "markdown",
      "metadata": {
        "id": "t1gQGH1KWAgW"
      },
      "source": [
        "## Visualize the model"
      ]
    },
    {
      "cell_type": "code",
      "execution_count": 8,
      "metadata": {
        "id": "ccvQ1mEJVrqo",
        "outputId": "a2f49f9b-c013-4ec6-a0bb-b9b4812a2e8c",
        "colab": {
          "base_uri": "https://localhost:8080/",
          "height": 265
        }
      },
      "outputs": [
        {
          "output_type": "display_data",
          "data": {
            "text/plain": [
              "<Figure size 432x288 with 1 Axes>"
            ],
            "image/png": "[encoded data removed]"
          },
          "metadata": {
            "needs_background": "light"
          }
        }
      ],
      "source": [
        "plt.plot(inputs, outputs, 'r')\n",
        "plt.show()"
      ]
    },
    {
      "cell_type": "markdown",
      "metadata": {
        "id": "WbugMH6yKvtd"
      },
      "source": [
        "## Download the TFLite model file"
      ]
    },
    {
      "cell_type": "code",
      "execution_count": 9,
      "metadata": {
        "id": "FOAIMETeJmkc",
        "outputId": "4d6133e3-67e6-4f1d-f0fa-f509ffca10f6",
        "colab": {
          "base_uri": "https://localhost:8080/",
          "height": 17
        }
      },
      "outputs": [
        {
          "output_type": "display_data",
          "data": {
            "text/plain": [
              "<IPython.core.display.Javascript object>"
            ],
            "application/javascript": [
              "\n",
              "    async function download(id, filename, size) {\n",
              "      if (!google.colab.kernel.accessAllowed) {\n",
              "        return;\n",
              "      }\n",
              "      const div = document.createElement('div');\n",
              "      const label = document.createElement('label');\n",
              "      label.textContent = `Downloading \"${filename}\": `;\n",
              "      div.appendChild(label);\n",
              "      const progress = document.createElement('progress');\n",
              "      progress.max = size;\n",
              "      div.appendChild(progress);\n",
              "      document.body.appendChild(div);\n",
              "\n",
              "      const buffers = [];\n",
              "      let downloaded = 0;\n",
              "\n",
              "      const channel = await google.colab.kernel.comms.open(id);\n",
              "      // Send a message to notify the kernel that we're ready.\n",
              "      channel.send({})\n",
              "\n",
              "      for await (const message of channel.messages) {\n",
              "        // Send a message to notify the kernel that we're ready.\n",
              "        channel.send({})\n",
              "        if (message.buffers) {\n",
              "          for (const buffer of message.buffers) {\n",
              "            buffers.push(buffer);\n",
              "            downloaded += buffer.byteLength;\n",
              "            progress.value = downloaded;\n",
              "          }\n",
              "        }\n",
              "      }\n",
              "      const blob = new Blob(buffers, {type: 'application/binary'});\n",
              "      const a = document.createElement('a');\n",
              "      a.href = window.URL.createObjectURL(blob);\n",
              "      a.download = filename;\n",
              "      div.appendChild(a);\n",
              "      a.click();\n",
              "      div.remove();\n",
              "    }\n",
              "  "
            ]
          },
          "metadata": {}
        },
        {
          "output_type": "display_data",
          "data": {
            "text/plain": [
              "<IPython.core.display.Javascript object>"
            ],
            "application/javascript": [
              "download(\"download_f88d236d-9587-4dbf-b160-324d47002ca9\", \"model.tflite\", 1080)"
            ]
          },
          "metadata": {}
        }
      ],
      "source": [
        "try:\n",
        "  from google.colab import files\n",
        "  files.download(tflite_model_file)\n",
        "except:\n",
        "  pass"
      ]
    },
    {
      "cell_type": "code",
      "source": [],
      "metadata": {
        "id": "9sVM4P22wmsf"
      },
      "execution_count": null,
      "outputs": []
    }
  ],
  "metadata": {
    "accelerator": "GPU",
    "colab": {
      "name": "tflite_c01_linear_regression.ipynb",
      "provenance": []
    },
    "kernelspec": {
      "display_name": "Python 3",
      "name": "python3"
    }
  },
  "nbformat": 4,
  "nbformat_minor": 0
}